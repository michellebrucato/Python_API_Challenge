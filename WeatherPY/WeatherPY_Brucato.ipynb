{
 "cells": [
  {
   "cell_type": "markdown",
   "metadata": {},
   "source": [
    "## WeatherPy_Brucato"
   ]
  },
  {
   "cell_type": "markdown",
   "metadata": {},
   "source": [
    "Create a Python script to visualize the weather of 500+ cities across the world of varying distance from the equator.\n",
    "\n",
    "Your objective is to build a series of scatter plots to showcase the following relationships:\n",
    "\n",
    "* Temperature (F) vs. Latitude\n",
    "* Humidity (%) vs. Latitude\n",
    "* Cloudiness (%) vs. Latitude\n",
    "* Wind Speed (mph) vs. Latitude\n"
   ]
  },
  {
   "cell_type": "code",
   "execution_count": 1,
   "metadata": {},
   "outputs": [],
   "source": [
    "import matplotlib.pyplot as plt\n",
    "import pandas as pd\n",
    "import numpy as np\n",
    "import requests\n",
    "import time\n",
    "\n",
    "# Import API key\n",
    "from api_keys import api_key\n",
    "\n",
    "# Incorporated citipy to determine city based on latitude and longitude\n",
    "from citipy import citipy\n",
    "\n",
    "# Output File (CSV)\n",
    "output_data_file = \"output_data/cities.csv\"\n",
    "\n",
    "# Range of latitudes and longitudes\n",
    "lat_range = (-90, 90)\n",
    "lng_range = (-180, 180)"
   ]
  },
  {
   "cell_type": "code",
   "execution_count": 2,
   "metadata": {},
   "outputs": [
    {
     "data": {
      "text/plain": [
       "59"
      ]
     },
     "execution_count": 2,
     "metadata": {},
     "output_type": "execute_result"
    }
   ],
   "source": [
    "# List for holding lat_lngs and cities\n",
    "lat_lngs = []\n",
    "cities = []\n",
    "\n",
    "# Create a set of random lat and lng combinations\n",
    "lats = np.random.uniform(low=-90.000, high=90.000, size=70)\n",
    "lngs = np.random.uniform(low=-180.000, high=180.000, size=70)\n",
    "lat_lngs = zip(lats, lngs)\n",
    "\n",
    "# Identify nearest city for each lat, lng combination\n",
    "for lat_lng in lat_lngs:\n",
    "    city = citipy.nearest_city(lat_lng[0], lat_lng[1]).city_name\n",
    "    \n",
    "    # If the city is unique, then add it to a our cities list\n",
    "    if city not in cities:\n",
    "        cities.append(city)\n",
    "\n",
    "# Print the city count to confirm sufficient count\n",
    "len(cities)"
   ]
  },
  {
   "cell_type": "code",
   "execution_count": 3,
   "metadata": {},
   "outputs": [
    {
     "name": "stdout",
     "output_type": "stream",
     "text": [
      "Started\n",
      "-----------\n",
      "Processing Record 1 of Set 1 | rikitea\n",
      "Processing Record 2 of Set 1 | padang\n",
      "Processing Record 3 of Set 1 | berlevag\n",
      "Processing Record 4 of Set 1 | manokwari\n",
      "Processing Record 5 of Set 1 | lebu\n",
      "Processing Record 6 of Set 1 | vaini\n",
      "Processing Record 7 of Set 1 | ponta do sol\n",
      "Processing Record 8 of Set 1 | hermanus\n",
      "Processing Record 9 of Set 1 | bluff\n",
      "Processing Record 10 of Set 1 | lithgow\n",
      "Processing Record 11 of Set 1 | hasaki\n",
      "Processing Record 12 of Set 1 | cape town\n",
      "Processing Record 13 of Set 1 | mataura\n",
      "Processing Record 14 of Set 1 | saint-philippe\n",
      "Processing Record 15 of Set 1 | attawapiskat\n",
      "City not found.\n",
      "Processing Record 16 of Set 1 | daru\n",
      "Processing Record 17 of Set 1 | sterling\n",
      "Processing Record 18 of Set 1 | kahului\n",
      "Processing Record 19 of Set 1 | yirol\n",
      "City not found.\n",
      "Processing Record 20 of Set 1 | manggar\n",
      "Processing Record 21 of Set 1 | longyearbyen\n",
      "Processing Record 22 of Set 1 | punta arenas\n",
      "Processing Record 23 of Set 1 | warqla\n",
      "City not found.\n",
      "Processing Record 24 of Set 1 | port alfred\n",
      "Processing Record 25 of Set 1 | mahebourg\n",
      "Processing Record 26 of Set 1 | taoudenni\n",
      "Processing Record 27 of Set 1 | kruisfontein\n",
      "Processing Record 28 of Set 1 | elban\n",
      "Processing Record 29 of Set 1 | rudnya\n",
      "Processing Record 30 of Set 1 | linfen\n",
      "Processing Record 31 of Set 1 | palana\n",
      "Processing Record 32 of Set 1 | barentsburg\n",
      "City not found.\n",
      "Processing Record 33 of Set 1 | hilo\n",
      "Processing Record 34 of Set 1 | mar del plata\n",
      "Processing Record 35 of Set 1 | xunchang\n",
      "Processing Record 36 of Set 1 | beringovskiy\n",
      "Processing Record 37 of Set 1 | melilla\n",
      "Processing Record 38 of Set 1 | constitucion\n",
      "Processing Record 39 of Set 1 | dikson\n",
      "Processing Record 40 of Set 1 | oranjestad\n",
      "Processing Record 41 of Set 1 | el limon\n",
      "Processing Record 42 of Set 1 | kieta\n",
      "Processing Record 43 of Set 1 | belushya guba\n",
      "City not found.\n",
      "Processing Record 44 of Set 1 | yellowknife\n",
      "Processing Record 45 of Set 1 | maneadero\n",
      "City not found.\n",
      "Processing Record 46 of Set 1 | klaksvik\n",
      "Processing Record 47 of Set 1 | sao felix do xingu\n",
      "Processing Record 48 of Set 1 | dalinghe\n",
      "City not found.\n",
      "Processing Record 49 of Set 1 | galich\n",
      "Processing Record 50 of Set 1 | bloemfontein\n",
      "Processing Record 1 of Set 1 | guantanamo\n",
      "Processing Record 2 of Set 1 | louisbourg\n",
      "City not found.\n",
      "Processing Record 3 of Set 1 | busselton\n",
      "Processing Record 4 of Set 1 | west lafayette\n",
      "Processing Record 5 of Set 1 | nizhneyansk\n",
      "City not found.\n",
      "Processing Record 6 of Set 1 | opuwo\n",
      "Processing Record 7 of Set 1 | new norfolk\n",
      "Processing Record 8 of Set 1 | tuktoyaktuk\n",
      "Processing Record 9 of Set 1 | alice springs\n",
      "-----------\n",
      "Completed\n"
     ]
    }
   ],
   "source": [
    "url = \"http://api.openweathermap.org/data/2.5/weather?units=imperial&appid=\" + api_key\n",
    "\n",
    "city_counter = 1\n",
    "set_counter = 1\n",
    "cities_list= []\n",
    "cloudiness = []\n",
    "country = []\n",
    "date = []\n",
    "humidity = []\n",
    "lat = []\n",
    "lng = []\n",
    "max_temp = []\n",
    "wind_speed = []\n",
    "\n",
    "print(\"Started\")\n",
    "print(\"-----------\")\n",
    "\n",
    "for i, city in enumerate(cities):\n",
    "    if (i % 50 == 0 and i >= 50):\n",
    "        city_counter = 1\n",
    "    query_url = url +\"&q=\" + city\n",
    "    response = requests.get(query_url).json()\n",
    "    print(f\"Processing Record {city_counter} of Set {set_counter} | {city}\")\n",
    "    city_counter += 1\n",
    "    try:       \n",
    "        cloudiness.append(response[\"clouds\"][\"all\"])\n",
    "        country.append(response[\"sys\"][\"country\"])\n",
    "        date.append(response[\"dt\"])\n",
    "        humidity.append(response[\"main\"][\"humidity\"])\n",
    "        lat.append(response[\"coord\"][\"lat\"])\n",
    "        lng.append(response[\"coord\"][\"lon\"])\n",
    "        max_temp.append(response[\"main\"][\"temp_max\"])\n",
    "        wind_speed.append(response[\"wind\"][\"speed\"])\n",
    "        cities_list.append(response[\"name\"])\n",
    "    except:\n",
    "        print(\"City not found.\")\n",
    "        pass\n",
    "\n",
    "print(\"-----------\")\n",
    "print(\"Completed\")"
   ]
  },
  {
   "cell_type": "markdown",
   "metadata": {},
   "source": [
    "### Convert Raw Data to DataFrame\n",
    "* Export the city data into a .csv.\n",
    "* Display the DataFrame\n"
   ]
  },
  {
   "cell_type": "code",
   "execution_count": 4,
   "metadata": {
    "scrolled": true
   },
   "outputs": [
    {
     "data": {
      "text/plain": [
       "City          50\n",
       "Cloudiness    50\n",
       "Country       50\n",
       "Date          50\n",
       "Humidity      50\n",
       "Lat           50\n",
       "Lng           50\n",
       "Max Temp      50\n",
       "Wind Speed    50\n",
       "dtype: int64"
      ]
     },
     "execution_count": 4,
     "metadata": {},
     "output_type": "execute_result"
    }
   ],
   "source": [
    "# create dictionary \n",
    "weather_data = {\n",
    "     \"City\": cities_list,\n",
    "     \"Cloudiness\": cloudiness,\n",
    "     \"Country\": country,\n",
    "     \"Date\": date,\n",
    "     \"Humidity\": humidity,\n",
    "     \"Lat\": lat,\n",
    "     \"Lng\": lng,\n",
    "     \"Max Temp\": max_temp,\n",
    "     \"Wind Speed\": wind_speed    \n",
    " }\n",
    "\n",
    "# Create data frame and count variables for each column\n",
    "weather_df = pd.DataFrame(weather_data)\n",
    "weather_df.count()"
   ]
  },
  {
   "cell_type": "code",
   "execution_count": 5,
   "metadata": {},
   "outputs": [
    {
     "data": {
      "text/html": [
       "<div>\n",
       "<style scoped>\n",
       "    .dataframe tbody tr th:only-of-type {\n",
       "        vertical-align: middle;\n",
       "    }\n",
       "\n",
       "    .dataframe tbody tr th {\n",
       "        vertical-align: top;\n",
       "    }\n",
       "\n",
       "    .dataframe thead th {\n",
       "        text-align: right;\n",
       "    }\n",
       "</style>\n",
       "<table border=\"1\" class=\"dataframe\">\n",
       "  <thead>\n",
       "    <tr style=\"text-align: right;\">\n",
       "      <th></th>\n",
       "      <th>City</th>\n",
       "      <th>Cloudiness</th>\n",
       "      <th>Country</th>\n",
       "      <th>Date</th>\n",
       "      <th>Humidity</th>\n",
       "      <th>Lat</th>\n",
       "      <th>Lng</th>\n",
       "      <th>Max Temp</th>\n",
       "      <th>Wind Speed</th>\n",
       "    </tr>\n",
       "  </thead>\n",
       "  <tbody>\n",
       "    <tr>\n",
       "      <th>0</th>\n",
       "      <td>Rikitea</td>\n",
       "      <td>0</td>\n",
       "      <td>PF</td>\n",
       "      <td>1578408991</td>\n",
       "      <td>82</td>\n",
       "      <td>-23.12</td>\n",
       "      <td>-134.97</td>\n",
       "      <td>76.41</td>\n",
       "      <td>17.34</td>\n",
       "    </tr>\n",
       "    <tr>\n",
       "      <th>1</th>\n",
       "      <td>Padang</td>\n",
       "      <td>62</td>\n",
       "      <td>ID</td>\n",
       "      <td>1578408846</td>\n",
       "      <td>93</td>\n",
       "      <td>-0.92</td>\n",
       "      <td>100.36</td>\n",
       "      <td>69.39</td>\n",
       "      <td>4.76</td>\n",
       "    </tr>\n",
       "    <tr>\n",
       "      <th>2</th>\n",
       "      <td>Berlevag</td>\n",
       "      <td>100</td>\n",
       "      <td>NO</td>\n",
       "      <td>1578408992</td>\n",
       "      <td>85</td>\n",
       "      <td>70.86</td>\n",
       "      <td>29.09</td>\n",
       "      <td>32.00</td>\n",
       "      <td>29.97</td>\n",
       "    </tr>\n",
       "    <tr>\n",
       "      <th>3</th>\n",
       "      <td>Manokwari</td>\n",
       "      <td>100</td>\n",
       "      <td>ID</td>\n",
       "      <td>1578408913</td>\n",
       "      <td>92</td>\n",
       "      <td>-0.87</td>\n",
       "      <td>134.08</td>\n",
       "      <td>73.24</td>\n",
       "      <td>6.67</td>\n",
       "    </tr>\n",
       "    <tr>\n",
       "      <th>4</th>\n",
       "      <td>Lebu</td>\n",
       "      <td>100</td>\n",
       "      <td>ET</td>\n",
       "      <td>1578408992</td>\n",
       "      <td>53</td>\n",
       "      <td>8.96</td>\n",
       "      <td>38.73</td>\n",
       "      <td>66.49</td>\n",
       "      <td>10.38</td>\n",
       "    </tr>\n",
       "  </tbody>\n",
       "</table>\n",
       "</div>"
      ],
      "text/plain": [
       "        City  Cloudiness Country        Date  Humidity    Lat     Lng  \\\n",
       "0    Rikitea           0      PF  1578408991        82 -23.12 -134.97   \n",
       "1     Padang          62      ID  1578408846        93  -0.92  100.36   \n",
       "2   Berlevag         100      NO  1578408992        85  70.86   29.09   \n",
       "3  Manokwari         100      ID  1578408913        92  -0.87  134.08   \n",
       "4       Lebu         100      ET  1578408992        53   8.96   38.73   \n",
       "\n",
       "   Max Temp  Wind Speed  \n",
       "0     76.41       17.34  \n",
       "1     69.39        4.76  \n",
       "2     32.00       29.97  \n",
       "3     73.24        6.67  \n",
       "4     66.49       10.38  "
      ]
     },
     "execution_count": 5,
     "metadata": {},
     "output_type": "execute_result"
    }
   ],
   "source": [
    "weather_df.head()"
   ]
  },
  {
   "cell_type": "markdown",
   "metadata": {},
   "source": [
    "### Plotting the Data\n",
    "* Use proper labeling of the plots using plot titles (including date of analysis) and axes labels.\n",
    "* Save the plotted figures as .pngs."
   ]
  },
  {
   "cell_type": "markdown",
   "metadata": {},
   "source": [
    "#### Latitude vs. Temperature Plot"
   ]
  },
  {
   "cell_type": "code",
   "execution_count": 19,
   "metadata": {},
   "outputs": [
    {
     "data": {
      "image/png": "[encoded data removed]",
      "text/plain": [
       "<Figure size 432x288 with 1 Axes>"
      ]
     },
     "metadata": {
      "needs_background": "light"
     },
     "output_type": "display_data"
    }
   ],
   "source": [
    "# create scatter plot for lat vs temp \n",
    "plt.title(\"Comparing City Latitude to City Temp\")\n",
    "plt.xlabel(\"Latitude\")\n",
    "plt.ylabel(\"Max Temp (F)\")\n",
    "plt.scatter(weather_df[\"Lat\"], weather_df[\"Max Temp\"], marker=\"o\", color=\"purple\")\n",
    "plt.grid()\n",
    "plt.show()"
   ]
  },
  {
   "cell_type": "markdown",
   "metadata": {},
   "source": [
    "#### Latitude vs. Humidity Plot"
   ]
  },
  {
   "cell_type": "code",
   "execution_count": 21,
   "metadata": {},
   "outputs": [
    {
     "data": {
      "image/png": "[encoded data removed]",
      "text/plain": [
       "<Figure size 432x288 with 1 Axes>"
      ]
     },
     "metadata": {
      "needs_background": "light"
     },
     "output_type": "display_data"
    }
   ],
   "source": [
    "# create scatter plot for lat vs humidity \n",
    "plt.title(\"Comparing City Latitude to City Humidity\")\n",
    "plt.xlabel(\"Latitude\")\n",
    "plt.ylabel(\"Humidity (%)\")\n",
    "plt.scatter(weather_df[\"Lat\"], weather_df[\"Humidity\"], marker=\"o\", color=\"purple\")\n",
    "plt.grid()\n",
    "plt.show()"
   ]
  },
  {
   "cell_type": "markdown",
   "metadata": {},
   "source": [
    "#### Latitude vs. Cloudiness Plot"
   ]
  },
  {
   "cell_type": "code",
   "execution_count": 22,
   "metadata": {},
   "outputs": [
    {
     "data": {
      "image/png": "[encoded data removed]",
      "text/plain": [
       "<Figure size 432x288 with 1 Axes>"
      ]
     },
     "metadata": {
      "needs_background": "light"
     },
     "output_type": "display_data"
    }
   ],
   "source": [
    "# create scatter plot for lat vs cloudiness \n",
    "plt.title(\"Comparing City Latitude to City Cloudiness\")\n",
    "plt.xlabel(\"Latitude\")\n",
    "plt.ylabel(\"Cloudiness\")\n",
    "plt.scatter(weather_df[\"Lat\"], weather_df[\"Cloudiness\"], marker=\"o\", color=\"purple\")\n",
    "plt.grid()\n",
    "plt.show()"
   ]
  },
  {
   "cell_type": "code",
   "execution_count": null,
   "metadata": {},
   "outputs": [],
   "source": []
  }
 ],
 "metadata": {
  "kernelspec": {
   "display_name": "api_pipenv",
   "language": "python",
   "name": "api_pipenv"
  },
  "language_info": {
   "codemirror_mode": {
    "name": "ipython",
    "version": 3
   },
   "file_extension": ".py",
   "mimetype": "text/x-python",
   "name": "python",
   "nbconvert_exporter": "python",
   "pygments_lexer": "ipython3",
   "version": "3.8.0"
  }
 },
 "nbformat": 4,
 "nbformat_minor": 2
}
